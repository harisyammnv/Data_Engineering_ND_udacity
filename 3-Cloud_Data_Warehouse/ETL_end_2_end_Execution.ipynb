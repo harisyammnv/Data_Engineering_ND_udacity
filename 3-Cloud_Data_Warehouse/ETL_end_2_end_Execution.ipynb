{
 "cells": [
  {
   "cell_type": "code",
   "execution_count": 1,
   "metadata": {
    "editable": true
   },
   "outputs": [],
   "source": [
    "import psycopg2\n",
    "import boto3\n",
    "import configparser\n",
    "from tqdm import tqdm_notebook\n",
    "import json\n",
    "import pandas as pd"
   ]
  },
  {
   "cell_type": "markdown",
   "metadata": {
    "editable": true
   },
   "source": [
    "# 1) Setting Up the Redshift Cluster (IAC)"
   ]
  },
  {
   "cell_type": "code",
   "execution_count": 2,
   "metadata": {
    "editable": true
   },
   "outputs": [],
   "source": [
    "def read_display_dwh_config(file):\n",
    "    \"\"\"\n",
    "    Reading the Config File\n",
    "    \"\"\"\n",
    "    config = configparser.ConfigParser()\n",
    "    config.read_file(open(file))\n",
    "    \n",
    "    DWH_CLUSTER_TYPE       = config.get(\"DWH\",\"DWH_CLUSTER_TYPE\")\n",
    "    DWH_NUM_NODES          = config.get(\"DWH\",\"DWH_NUM_NODES\")\n",
    "    DWH_NODE_TYPE          = config.get(\"DWH\",\"DWH_NODE_TYPE\")\n",
    "    DWH_CLUSTER_IDENTIFIER = config.get(\"DWH\",\"DWH_CLUSTER_IDENTIFIER\")\n",
    "    DB_NAME                 = config.get(\"CLUSTER\",\"DB_NAME\")\n",
    "    DB_USER            = config.get(\"CLUSTER\",\"DB_USER\")\n",
    "    DB_PASSWORD        = config.get(\"CLUSTER\",\"DB_PASSWORD\")\n",
    "    DB_PORT               = config.get(\"CLUSTER\",\"DB_PORT\")\n",
    "    DWH_IAM_ROLE_NAME      = config.get(\"DWH\", \"DWH_IAM_ROLE_NAME\")\n",
    "    \n",
    "    KEY = config.get(\"AWS\", \"KEY\")\n",
    "    SECRET = config.get(\"AWS\", \"SECRET\")\n",
    "    \n",
    "    dwh_config=pd.DataFrame({\"Param\":\n",
    "                  [\"DWH_CLUSTER_TYPE\", \"DWH_NUM_NODES\", \"DWH_NODE_TYPE\", \"DWH_CLUSTER_IDENTIFIER\", \"DB_NAME\", \"DB_USER\", \"DB_PASSWORD\", \"DB_PORT\"],\n",
    "              \"Value\":\n",
    "                  [DWH_CLUSTER_TYPE, DWH_NUM_NODES, DWH_NODE_TYPE, DWH_CLUSTER_IDENTIFIER, DB_NAME, DB_USER, DB_PASSWORD, DB_PORT]\n",
    "             })\n",
    "    return dwh_config, KEY, SECRET, DWH_IAM_ROLE_NAME"
   ]
  },
  {
   "cell_type": "code",
   "execution_count": 3,
   "metadata": {
    "editable": true
   },
   "outputs": [],
   "source": [
    "def create_clients(KEY, SECRET):\n",
    "    \"\"\"\n",
    "    Creating the AWS Clients\n",
    "    \"\"\"\n",
    "    ec2 = boto3.client('ec2', region_name='eu-central-1', aws_access_key_id = KEY, aws_secret_access_key = SECRET)\n",
    "\n",
    "    s3 = boto3.resource('s3',region_name='eu-central-1', aws_access_key_id = KEY, aws_secret_access_key = SECRET)\n",
    "\n",
    "    iam = boto3.client('iam',region_name='eu-central-1', aws_access_key_id = KEY, aws_secret_access_key = SECRET)\n",
    "\n",
    "    redshift = boto3.client('redshift',region_name='eu-central-1', aws_access_key_id = KEY, aws_secret_access_key = SECRET)\n",
    "    return ec2, s3, iam, redshift"
   ]
  },
  {
   "cell_type": "code",
   "execution_count": 4,
   "metadata": {
    "editable": true
   },
   "outputs": [],
   "source": [
    "def setup_iam_role(DWH_IAM_ROLE_NAME):\n",
    "    \"\"\"\n",
    "    Setting UP IAM ROLE\n",
    "    \"\"\"\n",
    "    try:\n",
    "        print('1.1 Creating a new IAM Role')\n",
    "        dwhRole = iam.create_role(Path='/',\n",
    "        RoleName= DWH_IAM_ROLE_NAME,\n",
    "        AssumeRolePolicyDocument= json.dumps({\n",
    "                        \"Version\": \"2012-10-17\",\n",
    "                        \"Statement\": [{\"Effect\": \"Allow\",\n",
    "                                \"Principal\": {\"Service\": [\"redshift.amazonaws.com\"]},\n",
    "                                \"Action\": [\"sts:AssumeRole\"]\n",
    "                            }]\n",
    "                    }),\n",
    "        Description='Allows Redshift clusters to call AWS services on your behalf.')\n",
    "        print(\"1.2 Attaching Policy\")\n",
    "        iam.attach_role_policy(RoleName=DWH_IAM_ROLE_NAME,\n",
    "                           PolicyArn=\"arn:aws:iam::aws:policy/AmazonS3ReadOnlyAccess\"\n",
    "                          )['ResponseMetadata']['HTTPStatusCode']\n",
    "        print('1.3 Get the IAM role ARN')\n",
    "        roleArn = iam.get_role(RoleName = DWH_IAM_ROLE_NAME)['Role']['Arn']\n",
    "\n",
    "        print(roleArn)\n",
    "        \n",
    "        return roleArn\n",
    "    \n",
    "    except Exception as e:\n",
    "        print(e)"
   ]
  },
  {
   "cell_type": "code",
   "execution_count": 5,
   "metadata": {
    "editable": true
   },
   "outputs": [],
   "source": [
    "def create_redshift_cluster(dwh_config, roleArn):\n",
    "    \"\"\"\n",
    "    CREATING REDSHIFT CLUSTER\n",
    "    \"\"\"\n",
    "    try:\n",
    "        response = redshift.create_cluster(        \n",
    "        # TODO: add parameters for hardware\n",
    "        ClusterType= dwh_config.loc[dwh_config.Param == 'DWH_CLUSTER_TYPE','Value'].item(),\n",
    "        NodeType = dwh_config.loc[dwh_config.Param == 'DWH_NODE_TYPE','Value'].item(),\n",
    "        NumberOfNodes= int(dwh_config.loc[dwh_config.Param == 'DWH_NUM_NODES','Value'].item()),\n",
    "        # TODO: add parameters for identifiers & credentials\n",
    "        DBName = dwh_config.loc[dwh_config.Param == 'DB_NAME','Value'].item(),\n",
    "        ClusterIdentifier=dwh_config.loc[dwh_config.Param == 'DWH_CLUSTER_IDENTIFIER','Value'].item(),\n",
    "        MasterUsername= dwh_config.loc[dwh_config.Param == 'DB_USER','Value'].item(),\n",
    "        MasterUserPassword= dwh_config.loc[dwh_config.Param == 'DB_PASSWORD','Value'].item(),\n",
    "        Port= int(dwh_config.loc[dwh_config.Param == 'DB_PORT','Value'].item()),\n",
    "        # TODO: add parameter for role (to allow s3 access)\n",
    "        IamRoles=[roleArn])\n",
    "    except Exception as e:\n",
    "        print(e)"
   ]
  },
  {
   "cell_type": "code",
   "execution_count": 22,
   "metadata": {
    "editable": true
   },
   "outputs": [],
   "source": [
    "def opening_incoming_TCP(myClusterProps, DWH_PORT):\n",
    "    \"\"\"\n",
    "    OPENING INCOMING TCP Traffic PORT\n",
    "    \"\"\"\n",
    "    ec_2 = boto3.resource('ec2', region_name='eu-central-1', aws_access_key_id = KEY, aws_secret_access_key = SECRET)\n",
    "    try:\n",
    "        vpc = ec_2.Vpc(id=myClusterProps['VpcId'])\n",
    "        defaultSg = list(vpc.security_groups.all())[1]\n",
    "        print(defaultSg)\n",
    "        defaultSg.authorize_ingress(\n",
    "            GroupName=defaultSg.group_name,\n",
    "            CidrIp='0.0.0.0/0',\n",
    "            IpProtocol='TCP',\n",
    "            FromPort=int(DWH_PORT),\n",
    "            ToPort=int(DWH_PORT)\n",
    "        )\n",
    "    except Exception as e:\n",
    "        print(e)"
   ]
  },
  {
   "cell_type": "code",
   "execution_count": 7,
   "metadata": {
    "editable": true
   },
   "outputs": [],
   "source": [
    "def prettyRedshiftProps(props):\n",
    "    pd.set_option('display.max_colwidth', -1)\n",
    "    keysToShow = [\"ClusterIdentifier\", \"NodeType\", \"ClusterStatus\", \"MasterUsername\", \"DBName\", \"Endpoint\", \"NumberOfNodes\", 'VpcId']\n",
    "    x = [(k, v) for k,v in props.items() if k in keysToShow]\n",
    "    return pd.DataFrame(data=x, columns=[\"Key\", \"Value\"])"
   ]
  },
  {
   "cell_type": "markdown",
   "metadata": {
    "editable": true
   },
   "source": [
    "## 1.1) Creating the Cluster"
   ]
  },
  {
   "cell_type": "code",
   "execution_count": 8,
   "metadata": {
    "editable": true
   },
   "outputs": [
    {
     "data": {
      "text/html": [
       "<div>\n",
       "<style scoped>\n",
       "    .dataframe tbody tr th:only-of-type {\n",
       "        vertical-align: middle;\n",
       "    }\n",
       "\n",
       "    .dataframe tbody tr th {\n",
       "        vertical-align: top;\n",
       "    }\n",
       "\n",
       "    .dataframe thead th {\n",
       "        text-align: right;\n",
       "    }\n",
       "</style>\n",
       "<table border=\"1\" class=\"dataframe\">\n",
       "  <thead>\n",
       "    <tr style=\"text-align: right;\">\n",
       "      <th></th>\n",
       "      <th>Param</th>\n",
       "      <th>Value</th>\n",
       "    </tr>\n",
       "  </thead>\n",
       "  <tbody>\n",
       "    <tr>\n",
       "      <th>0</th>\n",
       "      <td>DWH_CLUSTER_TYPE</td>\n",
       "      <td>multi-node</td>\n",
       "    </tr>\n",
       "    <tr>\n",
       "      <th>1</th>\n",
       "      <td>DWH_NUM_NODES</td>\n",
       "      <td>4</td>\n",
       "    </tr>\n",
       "    <tr>\n",
       "      <th>2</th>\n",
       "      <td>DWH_NODE_TYPE</td>\n",
       "      <td>dc2.large</td>\n",
       "    </tr>\n",
       "    <tr>\n",
       "      <th>3</th>\n",
       "      <td>DWH_CLUSTER_IDENTIFIER</td>\n",
       "      <td>dwhCluster</td>\n",
       "    </tr>\n",
       "    <tr>\n",
       "      <th>4</th>\n",
       "      <td>DB_NAME</td>\n",
       "      <td>dwh</td>\n",
       "    </tr>\n",
       "    <tr>\n",
       "      <th>5</th>\n",
       "      <td>DB_USER</td>\n",
       "      <td>dwhuser</td>\n",
       "    </tr>\n",
       "    <tr>\n",
       "      <th>6</th>\n",
       "      <td>DB_PASSWORD</td>\n",
       "      <td>Passw0rd</td>\n",
       "    </tr>\n",
       "    <tr>\n",
       "      <th>7</th>\n",
       "      <td>DB_PORT</td>\n",
       "      <td>5439</td>\n",
       "    </tr>\n",
       "  </tbody>\n",
       "</table>\n",
       "</div>"
      ],
      "text/plain": [
       "                    Param       Value\n",
       "0        DWH_CLUSTER_TYPE  multi-node\n",
       "1           DWH_NUM_NODES           4\n",
       "2           DWH_NODE_TYPE   dc2.large\n",
       "3  DWH_CLUSTER_IDENTIFIER  dwhCluster\n",
       "4                 DB_NAME         dwh\n",
       "5                 DB_USER     dwhuser\n",
       "6             DB_PASSWORD    Passw0rd\n",
       "7                 DB_PORT        5439"
      ]
     },
     "execution_count": 8,
     "metadata": {},
     "output_type": "execute_result"
    }
   ],
   "source": [
    "dwh_config, KEY, SECRET, DWH_IAM_ROLE_NAME = read_display_dwh_config('dwh.cfg')\n",
    "dwh_config"
   ]
  },
  {
   "cell_type": "code",
   "execution_count": 9,
   "metadata": {
    "editable": true
   },
   "outputs": [],
   "source": [
    "ec2, s3, iam, redshift = create_clients(KEY, SECRET)"
   ]
  },
  {
   "cell_type": "code",
   "execution_count": 10,
   "metadata": {
    "editable": true
   },
   "outputs": [
    {
     "name": "stdout",
     "output_type": "stream",
     "text": [
      "1.1 Creating a new IAM Role\n",
      "1.2 Attaching Policy\n",
      "1.3 Get the IAM role ARN\n",
      "arn:aws:iam::057666384869:role/dwhRole\n"
     ]
    }
   ],
   "source": [
    "roleArn = setup_iam_role(DWH_IAM_ROLE_NAME)"
   ]
  },
  {
   "cell_type": "code",
   "execution_count": 12,
   "metadata": {
    "editable": true
   },
   "outputs": [],
   "source": [
    "create_redshift_cluster(dwh_config, roleArn)"
   ]
  },
  {
   "cell_type": "code",
   "execution_count": 16,
   "metadata": {
    "editable": true
   },
   "outputs": [
    {
     "data": {
      "text/html": [
       "<div>\n",
       "<style scoped>\n",
       "    .dataframe tbody tr th:only-of-type {\n",
       "        vertical-align: middle;\n",
       "    }\n",
       "\n",
       "    .dataframe tbody tr th {\n",
       "        vertical-align: top;\n",
       "    }\n",
       "\n",
       "    .dataframe thead th {\n",
       "        text-align: right;\n",
       "    }\n",
       "</style>\n",
       "<table border=\"1\" class=\"dataframe\">\n",
       "  <thead>\n",
       "    <tr style=\"text-align: right;\">\n",
       "      <th></th>\n",
       "      <th>Key</th>\n",
       "      <th>Value</th>\n",
       "    </tr>\n",
       "  </thead>\n",
       "  <tbody>\n",
       "    <tr>\n",
       "      <th>0</th>\n",
       "      <td>ClusterIdentifier</td>\n",
       "      <td>dwhcluster</td>\n",
       "    </tr>\n",
       "    <tr>\n",
       "      <th>1</th>\n",
       "      <td>NodeType</td>\n",
       "      <td>dc2.large</td>\n",
       "    </tr>\n",
       "    <tr>\n",
       "      <th>2</th>\n",
       "      <td>ClusterStatus</td>\n",
       "      <td>available</td>\n",
       "    </tr>\n",
       "    <tr>\n",
       "      <th>3</th>\n",
       "      <td>MasterUsername</td>\n",
       "      <td>dwhuser</td>\n",
       "    </tr>\n",
       "    <tr>\n",
       "      <th>4</th>\n",
       "      <td>DBName</td>\n",
       "      <td>dwh</td>\n",
       "    </tr>\n",
       "    <tr>\n",
       "      <th>5</th>\n",
       "      <td>Endpoint</td>\n",
       "      <td>{'Address': 'dwhcluster.csymdzczedw2.eu-central-1.redshift.amazonaws.com', 'Port': 5439}</td>\n",
       "    </tr>\n",
       "    <tr>\n",
       "      <th>6</th>\n",
       "      <td>VpcId</td>\n",
       "      <td>vpc-596c8f32</td>\n",
       "    </tr>\n",
       "    <tr>\n",
       "      <th>7</th>\n",
       "      <td>NumberOfNodes</td>\n",
       "      <td>4</td>\n",
       "    </tr>\n",
       "  </tbody>\n",
       "</table>\n",
       "</div>"
      ],
      "text/plain": [
       "                 Key  \\\n",
       "0  ClusterIdentifier   \n",
       "1  NodeType            \n",
       "2  ClusterStatus       \n",
       "3  MasterUsername      \n",
       "4  DBName              \n",
       "5  Endpoint            \n",
       "6  VpcId               \n",
       "7  NumberOfNodes       \n",
       "\n",
       "                                                                                      Value  \n",
       "0  dwhcluster                                                                                \n",
       "1  dc2.large                                                                                 \n",
       "2  available                                                                                 \n",
       "3  dwhuser                                                                                   \n",
       "4  dwh                                                                                       \n",
       "5  {'Address': 'dwhcluster.csymdzczedw2.eu-central-1.redshift.amazonaws.com', 'Port': 5439}  \n",
       "6  vpc-596c8f32                                                                              \n",
       "7  4                                                                                         "
      ]
     },
     "execution_count": 16,
     "metadata": {},
     "output_type": "execute_result"
    }
   ],
   "source": [
    "myClusterProps = redshift.describe_clusters(ClusterIdentifier=dwh_config.loc[dwh_config.Param=='DWH_CLUSTER_IDENTIFIER','Value'].item())['Clusters'][0]\n",
    "prettyRedshiftProps(myClusterProps)"
   ]
  },
  {
   "cell_type": "code",
   "execution_count": 17,
   "metadata": {
    "editable": true
   },
   "outputs": [
    {
     "name": "stdout",
     "output_type": "stream",
     "text": [
      "DWH_ROLE_ARN ::  arn:aws:iam::057666384869:role/dwhRole\n",
      "DWH_ENDPOINT ::  dwhcluster.csymdzczedw2.eu-central-1.redshift.amazonaws.com\n"
     ]
    }
   ],
   "source": [
    "DWH_ENDPOINT = myClusterProps['Endpoint']['Address']\n",
    "DWH_ROLE_ARN = myClusterProps['IamRoles'][0]['IamRoleArn']\n",
    "print(\"DWH_ROLE_ARN :: \", DWH_ROLE_ARN)\n",
    "print(\"DWH_ENDPOINT :: \", DWH_ENDPOINT)"
   ]
  },
  {
   "cell_type": "code",
   "execution_count": 23,
   "metadata": {
    "editable": true
   },
   "outputs": [
    {
     "name": "stdout",
     "output_type": "stream",
     "text": [
      "ec2.SecurityGroup(id='sg-1f41d875')\n"
     ]
    }
   ],
   "source": [
    "opening_incoming_TCP(myClusterProps, int(dwh_config.loc[dwh_config.Param == 'DB_PORT','Value'].item()))"
   ]
  },
  {
   "cell_type": "code",
   "execution_count": 24,
   "metadata": {
    "editable": true
   },
   "outputs": [
    {
     "name": "stdout",
     "output_type": "stream",
     "text": [
      "Testing Open Connection -- 0 is Active: \n",
      "0\n"
     ]
    }
   ],
   "source": [
    "DWH_DB = dwh_config.loc[dwh_config.Param == 'DB_NAME','Value'].item()\n",
    "DWH_DB_USER= dwh_config.loc[dwh_config.Param == 'DB_USER','Value'].item()\n",
    "DWH_DB_PASSWORD= dwh_config.loc[dwh_config.Param == 'DB_PASSWORD','Value'].item()\n",
    "DWH_PORT = int(dwh_config.loc[dwh_config.Param == 'DB_PORT','Value'].item())\n",
    "\n",
    "conn = psycopg2.connect(\"host={} dbname={} user={} password={} port={}\".format(DWH_ENDPOINT,DWH_DB, DWH_DB_USER, DWH_DB_PASSWORD,DWH_PORT))\n",
    "print('Testing Open Connection -- 0 is Active: ')\n",
    "print(conn.closed)"
   ]
  },
  {
   "cell_type": "markdown",
   "metadata": {
    "editable": true
   },
   "source": [
    "## 1.2) Creating DB and Tables in Redshift"
   ]
  },
  {
   "cell_type": "code",
   "execution_count": 26,
   "metadata": {
    "editable": true
   },
   "outputs": [
    {
     "name": "stdout",
     "output_type": "stream",
     "text": [
      "----- DROPPING EXISTING TABLES -----\n",
      "100%|█████████████████████████████████████████████| 7/7 [00:02<00:00,  2.50it/s]\n",
      "----- DROPPING FINISHED -----\n",
      "----- CREATING NEW TABLES -----\n",
      "100%|█████████████████████████████████████████████| 7/7 [00:02<00:00,  2.40it/s]\n"
     ]
    }
   ],
   "source": [
    "!python create_tables.py"
   ]
  },
  {
   "cell_type": "markdown",
   "metadata": {
    "editable": true
   },
   "source": [
    "## 1.3) Staging S3 Data into staging Tables and ETL From S3 to Redshift Star Schema"
   ]
  },
  {
   "cell_type": "code",
   "execution_count": 27,
   "metadata": {
    "editable": true
   },
   "outputs": [
    {
     "name": "stdout",
     "output_type": "stream",
     "text": [
      "----- LOADING FROM S3 TO STAGING TABLES -----\n",
      "100%|████████████████████████████████████████████| 2/2 [44:56<00:00, 814.82s/it]\n",
      "----- FINISHED LOADING INTO STAGING TABLES -----\n",
      "100%|█████████████████████████████████████████████| 5/5 [00:03<00:00,  1.28it/s]\n",
      "----- REDSHIFT INSERTION FINISHED -----\n"
     ]
    }
   ],
   "source": [
    "!python etl.py"
   ]
  },
  {
   "cell_type": "markdown",
   "metadata": {
    "editable": true
   },
   "source": [
    "## 1.4) Sample SQL queries to see the performance"
   ]
  },
  {
   "cell_type": "code",
   "execution_count": 86,
   "metadata": {
    "editable": true
   },
   "outputs": [],
   "source": [
    "config = configparser.ConfigParser()\n",
    "config.read('dwh.cfg')\n",
    "\n",
    "conn = psycopg2.connect(\"host={} dbname={} user={} password={} port={}\".format(*config['CLUSTER'].values()))\n",
    "cur = conn.cursor()"
   ]
  },
  {
   "cell_type": "code",
   "execution_count": 72,
   "metadata": {
    "editable": true
   },
   "outputs": [
    {
     "name": "stdout",
     "output_type": "stream",
     "text": [
      "Number of Records in songs: 14896\n",
      "Number of Records in songplays: 333\n",
      "Number of Records in users: 105\n",
      "Number of Records in artists: 10025\n",
      "Number of Records in time: 6813\n",
      "Number of Records in staging_events: 8056\n",
      "Number of Records in staging_songs: 14896\n"
     ]
    }
   ],
   "source": [
    "query1 = (\"\"\"select count(*) from songs;\"\"\")\n",
    "query2 = (\"\"\"select count(*) from songplays;\"\"\")\n",
    "query3 = (\"\"\"select count(*) from users;\"\"\")\n",
    "query4 = (\"\"\"select count(*) from artists;\"\"\")\n",
    "query5 = (\"\"\"select count(*) from time;\"\"\")\n",
    "query6 = (\"\"\"select count(*) from staging_events;\"\"\")\n",
    "query7 = (\"\"\"select count(*) from staging_songs;\"\"\")\n",
    "\n",
    "queries = {'songs':query1, 'songplays':query2, 'users':query3, 'artists':query4, 'time':query5, 'staging_events':query6, 'staging_songs':query7}\n",
    "\n",
    "for query in queries.keys():\n",
    "    cur.execute(queries.get(query))\n",
    "    print('Number of Records in '+query+': '+str(cur.fetchall()[0][0]))"
   ]
  },
  {
   "cell_type": "markdown",
   "metadata": {
    "editable": true
   },
   "source": [
    "#### Q1) List the number of songs and number of artists listened by users in the 11th month in the DB"
   ]
  },
  {
   "cell_type": "code",
   "execution_count": 93,
   "metadata": {
    "editable": true
   },
   "outputs": [],
   "source": [
    "large_query1=(\"\"\"explain SELECT\n",
    "  songplays.user_id,\n",
    "  users.first_name,\n",
    "  COUNT(songplays.songplay_id) AS song_count,\n",
    "  COUNT(artists.name) AS artist_count\n",
    "FROM\n",
    "  songplays\n",
    "  INNER JOIN songs ON songplays.song_id = songs.song_id\n",
    "  INNER JOIN time ON songplays.start_time = time.start_time\n",
    "  INNER JOIN artists ON songplays.artist_id = artists.artist_id\n",
    "  INNER JOIN users ON songplays.user_id = users.user_id\n",
    "WHERE\n",
    "  time.month = 11\n",
    "GROUP BY\n",
    "  songplays.user_id,\n",
    "  users.first_name\n",
    "\"\"\")"
   ]
  },
  {
   "cell_type": "code",
   "execution_count": 104,
   "metadata": {
    "editable": true
   },
   "outputs": [
    {
     "name": "stdout",
     "output_type": "stream",
     "text": [
      "[('XN HashAggregate  (cost=146524201.02..146524202.69 rows=334 width=34)',), ('  ->  XN Hash Join DS_DIST_ALL_NONE  (cost=3948.39..146524197.68 rows=334 width=34)',), ('        Hash Cond: (\"outer\".user_id = \"inner\".user_id)',), ('        ->  XN Hash Join DS_BCAST_INNER  (cost=3943.14..146524184.92 rows=333 width=25)',), ('              Hash Cond: (\"outer\".start_time = \"inner\".start_time)',), ('              ->  XN Seq Scan on \"time\"  (cost=0.00..85.16 rows=6813 width=8)',), ('                    Filter: (\"month\" = 11)',), ('              ->  XN Hash  (cost=3942.30..3942.30 rows=333 width=33)',), ('                    ->  XN Hash Join DS_DIST_NONE  (cost=4.16..3942.30 rows=333 width=33)',), ('                          Hash Cond: ((\"outer\".artist_id)::text = (\"inner\".artist_id)::text)',), ('                          ->  XN Seq Scan on artists  (cost=0.00..100.25 rows=10025 width=39)',), ('                          ->  XN Hash  (cost=3.33..3.33 rows=333 width=38)',), ('                                ->  XN Seq Scan on songplays  (cost=0.00..3.33 rows=333 width=38)',), ('        ->  XN Hash  (cost=4.20..4.20 rows=420 width=13)',), ('              ->  XN Seq Scan on users  (cost=0.00..4.20 rows=420 width=13)',), ('----- Tables missing statistics: artists, songplays, time, users -----',), ('----- Update statistics by running the ANALYZE command on these tables -----',)]\n"
     ]
    }
   ],
   "source": [
    "cur.execute(large_query1)\n",
    "print(cur.fetchall())"
   ]
  },
  {
   "cell_type": "markdown",
   "metadata": {
    "editable": true
   },
   "source": [
    "#### Q2)  Number of songs per year per month"
   ]
  },
  {
   "cell_type": "code",
   "execution_count": 91,
   "metadata": {
    "editable": true
   },
   "outputs": [],
   "source": [
    "large_query2=(\"\"\"explain SELECT time.month, time.year, COUNT(sp.songplay_id) as songplay_count FROM songplays sp LEFT JOIN time ON sp.start_time = time.start_time GROUP BY time.month, time.year;\"\"\")"
   ]
  },
  {
   "cell_type": "code",
   "execution_count": 92,
   "metadata": {
    "editable": true
   },
   "outputs": [
    {
     "name": "stdout",
     "output_type": "stream",
     "text": [
      "[('XN HashAggregate  (cost=425430231.41..425430231.42 rows=1 width=12)',), ('  ->  XN Hash Right Join DS_DIST_BOTH  (cost=4.16..425430228.92 rows=333 width=12)',), ('        Outer Dist Key: \"time\".start_time',), ('        Inner Dist Key: sp.start_time',), ('        Hash Cond: (\"outer\".start_time = \"inner\".start_time)',), ('        ->  XN Seq Scan on \"time\"  (cost=0.00..68.13 rows=6813 width=16)',), ('        ->  XN Hash  (cost=3.33..3.33 rows=333 width=12)',), ('              ->  XN Seq Scan on songplays sp  (cost=0.00..3.33 rows=333 width=12)',), ('----- Tables missing statistics: songplays, time -----',), ('----- Update statistics by running the ANALYZE command on these tables -----',)]\n"
     ]
    }
   ],
   "source": [
    "cur.execute(large_query2)\n",
    "print(cur.fetchall())"
   ]
  },
  {
   "cell_type": "markdown",
   "metadata": {
    "editable": true
   },
   "source": [
    "# 2) Cleaning up Resources"
   ]
  },
  {
   "cell_type": "code",
   "execution_count": 106,
   "metadata": {
    "editable": true
   },
   "outputs": [
    {
     "data": {
      "text/plain": [
       "{'Cluster': {'ClusterIdentifier': 'dwhcluster',\n",
       "  'NodeType': 'dc2.large',\n",
       "  'ClusterStatus': 'deleting',\n",
       "  'MasterUsername': 'dwhuser',\n",
       "  'DBName': 'dwh',\n",
       "  'Endpoint': {'Address': 'dwhcluster.csymdzczedw2.eu-central-1.redshift.amazonaws.com',\n",
       "   'Port': 5439},\n",
       "  'ClusterCreateTime': datetime.datetime(2020, 3, 22, 13, 36, 2, 274000, tzinfo=tzlocal()),\n",
       "  'AutomatedSnapshotRetentionPeriod': 1,\n",
       "  'ClusterSecurityGroups': [],\n",
       "  'VpcSecurityGroups': [{'VpcSecurityGroupId': 'sg-1f41d875',\n",
       "    'Status': 'active'}],\n",
       "  'ClusterParameterGroups': [{'ParameterGroupName': 'default.redshift-1.0',\n",
       "    'ParameterApplyStatus': 'in-sync'}],\n",
       "  'ClusterSubnetGroupName': 'default',\n",
       "  'VpcId': 'vpc-596c8f32',\n",
       "  'AvailabilityZone': 'eu-central-1b',\n",
       "  'PreferredMaintenanceWindow': 'tue:13:30-tue:14:00',\n",
       "  'PendingModifiedValues': {},\n",
       "  'ClusterVersion': '1.0',\n",
       "  'AllowVersionUpgrade': True,\n",
       "  'NumberOfNodes': 4,\n",
       "  'PubliclyAccessible': True,\n",
       "  'Encrypted': False,\n",
       "  'Tags': [],\n",
       "  'EnhancedVpcRouting': False,\n",
       "  'IamRoles': [{'IamRoleArn': 'arn:aws:iam::057666384869:role/dwhRole',\n",
       "    'ApplyStatus': 'in-sync'}],\n",
       "  'MaintenanceTrackName': 'current'},\n",
       " 'ResponseMetadata': {'RequestId': 'fa53d3e0-6c5c-11ea-bc1c-9f93172e53a6',\n",
       "  'HTTPStatusCode': 200,\n",
       "  'HTTPHeaders': {'x-amzn-requestid': 'fa53d3e0-6c5c-11ea-bc1c-9f93172e53a6',\n",
       "   'content-type': 'text/xml',\n",
       "   'content-length': '2388',\n",
       "   'vary': 'Accept-Encoding',\n",
       "   'date': 'Sun, 22 Mar 2020 16:48:37 GMT'},\n",
       "  'RetryAttempts': 0}}"
      ]
     },
     "execution_count": 106,
     "metadata": {},
     "output_type": "execute_result"
    }
   ],
   "source": [
    "redshift.delete_cluster( ClusterIdentifier=dwh_config.loc[dwh_config.Param=='DWH_CLUSTER_IDENTIFIER','Value'].item(),  SkipFinalClusterSnapshot=True)"
   ]
  },
  {
   "cell_type": "code",
   "execution_count": 112,
   "metadata": {
    "editable": true
   },
   "outputs": [
    {
     "data": {
      "text/html": [
       "<div>\n",
       "<style scoped>\n",
       "    .dataframe tbody tr th:only-of-type {\n",
       "        vertical-align: middle;\n",
       "    }\n",
       "\n",
       "    .dataframe tbody tr th {\n",
       "        vertical-align: top;\n",
       "    }\n",
       "\n",
       "    .dataframe thead th {\n",
       "        text-align: right;\n",
       "    }\n",
       "</style>\n",
       "<table border=\"1\" class=\"dataframe\">\n",
       "  <thead>\n",
       "    <tr style=\"text-align: right;\">\n",
       "      <th></th>\n",
       "      <th>Key</th>\n",
       "      <th>Value</th>\n",
       "    </tr>\n",
       "  </thead>\n",
       "  <tbody>\n",
       "    <tr>\n",
       "      <th>0</th>\n",
       "      <td>ClusterIdentifier</td>\n",
       "      <td>dwhcluster</td>\n",
       "    </tr>\n",
       "    <tr>\n",
       "      <th>1</th>\n",
       "      <td>NodeType</td>\n",
       "      <td>dc2.large</td>\n",
       "    </tr>\n",
       "    <tr>\n",
       "      <th>2</th>\n",
       "      <td>ClusterStatus</td>\n",
       "      <td>deleting</td>\n",
       "    </tr>\n",
       "    <tr>\n",
       "      <th>3</th>\n",
       "      <td>MasterUsername</td>\n",
       "      <td>dwhuser</td>\n",
       "    </tr>\n",
       "    <tr>\n",
       "      <th>4</th>\n",
       "      <td>DBName</td>\n",
       "      <td>dwh</td>\n",
       "    </tr>\n",
       "    <tr>\n",
       "      <th>5</th>\n",
       "      <td>Endpoint</td>\n",
       "      <td>{'Address': 'dwhcluster.csymdzczedw2.eu-central-1.redshift.amazonaws.com', 'Port': 5439}</td>\n",
       "    </tr>\n",
       "    <tr>\n",
       "      <th>6</th>\n",
       "      <td>VpcId</td>\n",
       "      <td>vpc-596c8f32</td>\n",
       "    </tr>\n",
       "    <tr>\n",
       "      <th>7</th>\n",
       "      <td>NumberOfNodes</td>\n",
       "      <td>4</td>\n",
       "    </tr>\n",
       "  </tbody>\n",
       "</table>\n",
       "</div>"
      ],
      "text/plain": [
       "                 Key  \\\n",
       "0  ClusterIdentifier   \n",
       "1  NodeType            \n",
       "2  ClusterStatus       \n",
       "3  MasterUsername      \n",
       "4  DBName              \n",
       "5  Endpoint            \n",
       "6  VpcId               \n",
       "7  NumberOfNodes       \n",
       "\n",
       "                                                                                      Value  \n",
       "0  dwhcluster                                                                                \n",
       "1  dc2.large                                                                                 \n",
       "2  deleting                                                                                  \n",
       "3  dwhuser                                                                                   \n",
       "4  dwh                                                                                       \n",
       "5  {'Address': 'dwhcluster.csymdzczedw2.eu-central-1.redshift.amazonaws.com', 'Port': 5439}  \n",
       "6  vpc-596c8f32                                                                              \n",
       "7  4                                                                                         "
      ]
     },
     "execution_count": 112,
     "metadata": {},
     "output_type": "execute_result"
    }
   ],
   "source": [
    "myClusterProps = redshift.describe_clusters(ClusterIdentifier=dwh_config.loc[dwh_config.Param=='DWH_CLUSTER_IDENTIFIER','Value'].item())['Clusters'][0]\n",
    "prettyRedshiftProps(myClusterProps)"
   ]
  },
  {
   "cell_type": "code",
   "execution_count": 113,
   "metadata": {
    "editable": true
   },
   "outputs": [
    {
     "data": {
      "text/plain": [
       "{'ResponseMetadata': {'RequestId': '8fa2e06b-71dd-40a4-bbf0-b7dfd09effbb',\n",
       "  'HTTPStatusCode': 200,\n",
       "  'HTTPHeaders': {'x-amzn-requestid': '8fa2e06b-71dd-40a4-bbf0-b7dfd09effbb',\n",
       "   'content-type': 'text/xml',\n",
       "   'content-length': '200',\n",
       "   'date': 'Sun, 22 Mar 2020 16:50:56 GMT'},\n",
       "  'RetryAttempts': 0}}"
      ]
     },
     "execution_count": 113,
     "metadata": {},
     "output_type": "execute_result"
    }
   ],
   "source": [
    "iam.detach_role_policy(RoleName=DWH_IAM_ROLE_NAME, PolicyArn=\"arn:aws:iam::aws:policy/AmazonS3ReadOnlyAccess\")\n",
    "iam.delete_role(RoleName=DWH_IAM_ROLE_NAME)"
   ]
  },
  {
   "cell_type": "code",
   "execution_count": null,
   "metadata": {
    "editable": true
   },
   "outputs": [],
   "source": []
  }
 ],
 "metadata": {
  "kernelspec": {
   "display_name": "Python 3",
   "language": "python",
   "name": "python3"
  },
  "language_info": {
   "codemirror_mode": {
    "name": "ipython",
    "version": 3
   },
   "file_extension": ".py",
   "mimetype": "text/x-python",
   "name": "python",
   "nbconvert_exporter": "python",
   "pygments_lexer": "ipython3",
   "version": "3.6.3"
  }
 },
 "nbformat": 4,
 "nbformat_minor": 4
}
